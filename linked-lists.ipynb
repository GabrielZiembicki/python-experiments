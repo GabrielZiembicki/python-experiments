{
 "cells": [
  {
   "cell_type": "code",
   "execution_count": null,
   "metadata": {},
   "outputs": [],
   "source": [
    "# Linked list"
   ]
  },
  {
   "cell_type": "code",
   "execution_count": 76,
   "metadata": {},
   "outputs": [],
   "source": [
    "class Node:\n",
    "    def __init__(self, value):\n",
    "        self.value=value\n",
    "        self.next_=None\n",
    "    def traverse(self):\n",
    "        node = self\n",
    "        #print(self.value)\n",
    "        while node != None:\n",
    "            print (node.value)\n",
    "            node = node.next_\n",
    "    def remove_dups(self):\n",
    "        els = []\n",
    "        previous = None\n",
    "        node = self\n",
    "        while node != None:\n",
    "            if node.value in els:\n",
    "                previous.next_ = node.next_\n",
    "            else:\n",
    "                els.append(node.value)\n",
    "            previous = node\n",
    "            node = node.next_\n",
    "            \n",
    "    def delete_from_n(self, n):\n",
    "        node = self\n",
    "        i = 1\n",
    "        previous=None\n",
    "        while node != None:\n",
    "            if i >= n:\n",
    "                previous.next_ = node.next_\n",
    "            previous = node\n",
    "            node = node.next_\n",
    "            i += 1\n",
    "                \n"
   ]
  },
  {
   "cell_type": "code",
   "execution_count": 77,
   "metadata": {},
   "outputs": [],
   "source": [
    "node1 = Node(10)\n",
    "node2 = Node(21)\n",
    "node3 = Node(54)\n",
    "node4 = Node(21)\n",
    "node5 = Node(16)\n",
    "node1.next_ = node2\n",
    "node2.next_ = node3\n",
    "node3.next_ = node4\n",
    "node4.next_ = node5"
   ]
  },
  {
   "cell_type": "code",
   "execution_count": 78,
   "metadata": {},
   "outputs": [
    {
     "name": "stdout",
     "output_type": "stream",
     "text": [
      "10\n",
      "21\n",
      "54\n",
      "21\n",
      "16\n"
     ]
    }
   ],
   "source": [
    "node1.traverse()"
   ]
  },
  {
   "cell_type": "code",
   "execution_count": 79,
   "metadata": {},
   "outputs": [],
   "source": [
    "node1.remove_dups()"
   ]
  },
  {
   "cell_type": "code",
   "execution_count": 80,
   "metadata": {},
   "outputs": [
    {
     "name": "stdout",
     "output_type": "stream",
     "text": [
      "10\n",
      "21\n",
      "54\n",
      "16\n"
     ]
    }
   ],
   "source": [
    "node1.traverse()"
   ]
  },
  {
   "cell_type": "code",
   "execution_count": 81,
   "metadata": {},
   "outputs": [],
   "source": [
    "node1.delete_from_n(2)"
   ]
  },
  {
   "cell_type": "code",
   "execution_count": 82,
   "metadata": {},
   "outputs": [
    {
     "name": "stdout",
     "output_type": "stream",
     "text": [
      "10\n",
      "54\n"
     ]
    }
   ],
   "source": [
    "node1.traverse()"
   ]
  }
 ],
 "metadata": {
  "kernelspec": {
   "display_name": "Python 3",
   "language": "python",
   "name": "python3"
  },
  "language_info": {
   "codemirror_mode": {
    "name": "ipython",
    "version": 3
   },
   "file_extension": ".py",
   "mimetype": "text/x-python",
   "name": "python",
   "nbconvert_exporter": "python",
   "pygments_lexer": "ipython3",
   "version": "3.6.4"
  }
 },
 "nbformat": 4,
 "nbformat_minor": 2
}
